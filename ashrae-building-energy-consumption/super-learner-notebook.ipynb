{
 "cells": [
  {
   "cell_type": "code",
   "execution_count": 1,
   "metadata": {},
   "outputs": [
    {
     "name": "stderr",
     "output_type": "stream",
     "text": [
      "/Users/ns/anaconda3/envs/ashrae-energy-prediction/lib/python3.6/site-packages/lightgbm/__init__.py:48: UserWarning: Starting from version 2.2.1, the library file in distribution wheels for macOS is built by the Apple Clang (Xcode_8.3.3) compiler.\n",
      "This means that in case of installing LightGBM from PyPI via the ``pip install lightgbm`` command, you don't need to install the gcc compiler anymore.\n",
      "Instead of that, you need to install the OpenMP library, which is required for running LightGBM on the system with the Apple Clang compiler.\n",
      "You can install the OpenMP library by the following command: ``brew install libomp``.\n",
      "  \"You can install the OpenMP library by the following command: ``brew install libomp``.\", UserWarning)\n",
      "[MLENS] backend: threading\n"
     ]
    }
   ],
   "source": [
    "import pandas as pd\n",
    "import numpy as np\n",
    "\n",
    "from sklearn.linear_model import LinearRegression\n",
    "from sklearn.linear_model import ElasticNet\n",
    "from sklearn.ensemble import RandomForestRegressor\n",
    "from sklearn.neighbors import KNeighborsRegressor\n",
    "from lightgbm import LGBMRegressor\n",
    "from xgboost import XGBRegressor\n",
    "\n",
    "\n",
    "from sklearn.model_selection import train_test_split\n",
    "from sklearn.metrics import mean_squared_error\n",
    "\n",
    "from mlens.ensemble import SuperLearner\n",
    "from mlens.utils import pickle_save, pickle_load\n",
    "from load_data_utils import *"
   ]
  },
  {
   "cell_type": "markdown",
   "metadata": {},
   "source": [
    "# IMPORT DATA FUNCTIONS"
   ]
  },
  {
   "cell_type": "code",
   "execution_count": 21,
   "metadata": {},
   "outputs": [
    {
     "name": "stdout",
     "output_type": "stream",
     "text": [
      "inital load (20216100, 4)\n",
      "after building df load (20216100, 9)\n",
      "after weather load (20216100, 18)\n"
     ]
    }
   ],
   "source": [
    "train = load_train_data()"
   ]
  },
  {
   "cell_type": "code",
   "execution_count": 2,
   "metadata": {},
   "outputs": [
    {
     "name": "stdout",
     "output_type": "stream",
     "text": [
      "inital load (20216100, 4)\n",
      "after building df load (20216100, 9)\n",
      "after weather load (20216100, 18)\n",
      "Memory usage of properties dataframe is : 3007.613754272461  MB\n",
      "******************************\n",
      "Column:  building_id\n",
      "dtype before:  int64\n",
      "min for this col:  0\n",
      "max for this col:  1448\n",
      "dtype after:  uint16\n",
      "******************************\n",
      "******************************\n",
      "Column:  meter\n",
      "dtype before:  int64\n",
      "min for this col:  0\n",
      "max for this col:  3\n",
      "dtype after:  uint8\n",
      "******************************\n",
      "******************************\n",
      "Column:  meter_reading\n",
      "dtype before:  float64\n",
      "min for this col:  0.0\n",
      "max for this col:  21904700.0\n",
      "dtype after:  float32\n",
      "******************************\n",
      "******************************\n",
      "Column:  site_id\n",
      "dtype before:  int64\n",
      "min for this col:  0\n",
      "max for this col:  15\n",
      "dtype after:  uint8\n",
      "******************************\n",
      "******************************\n",
      "Column:  primary_use\n",
      "dtype before:  int64\n",
      "min for this col:  0\n",
      "max for this col:  15\n",
      "dtype after:  uint8\n",
      "******************************\n",
      "******************************\n",
      "Column:  square_feet\n",
      "dtype before:  int64\n",
      "min for this col:  283\n",
      "max for this col:  875000\n",
      "dtype after:  uint32\n",
      "******************************\n",
      "******************************\n",
      "Column:  year_built\n",
      "dtype before:  float64\n",
      "min for this col:  0.0\n",
      "max for this col:  117.0\n",
      "dtype after:  uint8\n",
      "******************************\n",
      "******************************\n",
      "Column:  floor_count\n",
      "dtype before:  int64\n",
      "min for this col:  0\n",
      "max for this col:  4\n",
      "dtype after:  uint8\n",
      "******************************\n",
      "******************************\n",
      "Column:  air_temperature\n",
      "dtype before:  float64\n",
      "min for this col:  -28.9\n",
      "max for this col:  47.2\n",
      "dtype after:  float32\n",
      "******************************\n",
      "******************************\n",
      "Column:  cloud_coverage\n",
      "dtype before:  float64\n",
      "min for this col:  0.0\n",
      "max for this col:  9.0\n",
      "dtype after:  uint8\n",
      "******************************\n",
      "******************************\n",
      "Column:  dew_temperature\n",
      "dtype before:  float64\n",
      "min for this col:  -35.0\n",
      "max for this col:  26.1\n",
      "dtype after:  float32\n",
      "******************************\n",
      "******************************\n",
      "Column:  precip_depth_1_hr\n",
      "dtype before:  float64\n",
      "min for this col:  -1.0\n",
      "max for this col:  343.0\n",
      "dtype after:  int16\n",
      "******************************\n",
      "******************************\n",
      "Column:  sea_level_pressure\n",
      "dtype before:  float64\n",
      "min for this col:  968.2\n",
      "max for this col:  1045.5\n",
      "dtype after:  float32\n",
      "******************************\n",
      "******************************\n",
      "Column:  wind_direction\n",
      "dtype before:  float64\n",
      "min for this col:  0.0\n",
      "max for this col:  360.0\n",
      "dtype after:  uint16\n",
      "******************************\n",
      "******************************\n",
      "Column:  wind_speed\n",
      "dtype before:  float64\n",
      "min for this col:  0.0\n",
      "max for this col:  19.0\n",
      "dtype after:  float32\n",
      "******************************\n",
      "******************************\n",
      "Column:  wind_speed_log\n",
      "dtype before:  float64\n",
      "min for this col:  0.0\n",
      "max for this col:  2.995732273553991\n",
      "dtype after:  float32\n",
      "******************************\n",
      "******************************\n",
      "Column:  dew_temp_log\n",
      "dtype before:  float64\n",
      "min for this col:  0.0\n",
      "max for this col:  4.128745988939433\n",
      "dtype after:  float32\n",
      "******************************\n",
      "******************************\n",
      "Column:  hour\n",
      "dtype before:  uint8\n",
      "min for this col:  0\n",
      "max for this col:  23\n",
      "dtype after:  uint8\n",
      "******************************\n",
      "******************************\n",
      "Column:  day\n",
      "dtype before:  uint8\n",
      "min for this col:  1\n",
      "max for this col:  31\n",
      "dtype after:  uint8\n",
      "******************************\n",
      "******************************\n",
      "Column:  weekend\n",
      "dtype before:  uint8\n",
      "min for this col:  0\n",
      "max for this col:  6\n",
      "dtype after:  uint8\n",
      "******************************\n",
      "******************************\n",
      "Column:  month\n",
      "dtype before:  uint8\n",
      "min for this col:  1\n",
      "max for this col:  12\n",
      "dtype after:  uint8\n",
      "******************************\n",
      "******************************\n",
      "Column:  square_feet_log\n",
      "dtype before:  float64\n",
      "min for this col:  5.645446897643238\n",
      "max for this col:  13.681979165339751\n",
      "dtype after:  float32\n",
      "******************************\n",
      "___MEMORY USAGE AFTER COMPLETION:___\n",
      "Memory usage is:  1156.7745208740234  MB\n",
      "This is  38.46153846153846 % of the initial size\n",
      "Features in dataset\n",
      "<class 'pandas.core.frame.DataFrame'>\n",
      "Int64Index: 20216100 entries, 0 to 20216099\n",
      "Data columns (total 13 columns):\n",
      "site_id            uint8\n",
      "building_id        uint16\n",
      "primary_use        uint8\n",
      "floor_count        uint8\n",
      "hour               uint8\n",
      "day                uint8\n",
      "weekend            uint8\n",
      "month              uint8\n",
      "meter              uint8\n",
      "square_feet_log    float64\n",
      "year_built         float64\n",
      "air_temperature    float64\n",
      "cloud_coverage     float64\n",
      "dtypes: float64(4), uint16(1), uint8(8)\n",
      "memory usage: 964.0 MB\n",
      "None\n"
     ]
    }
   ],
   "source": [
    "categorical = [\"site_id\", \n",
    "               \"building_id\", \n",
    "               \"primary_use\",\n",
    "               'floor_count',\n",
    "               \"hour\", \n",
    "               \"day\", \n",
    "               \"weekend\", \n",
    "               \"month\", \n",
    "               \"meter\"]\n",
    "\n",
    "numerical = [\"square_feet_log\",\n",
    "             \"year_built\",\n",
    "            \"air_temperature\",\n",
    "             \"cloud_coverage\",]\n",
    "\n",
    "label_cols = ['primary_use', 'floor_count']\n",
    "\n",
    "train_x, train_y, train_dict = prep_train_data(categorical, numerical, label_cols)"
   ]
  },
  {
   "cell_type": "code",
   "execution_count": 13,
   "metadata": {},
   "outputs": [
    {
     "data": {
      "text/html": [
       "<div>\n",
       "<style scoped>\n",
       "    .dataframe tbody tr th:only-of-type {\n",
       "        vertical-align: middle;\n",
       "    }\n",
       "\n",
       "    .dataframe tbody tr th {\n",
       "        vertical-align: top;\n",
       "    }\n",
       "\n",
       "    .dataframe thead th {\n",
       "        text-align: right;\n",
       "    }\n",
       "</style>\n",
       "<table border=\"1\" class=\"dataframe\">\n",
       "  <thead>\n",
       "    <tr style=\"text-align: right;\">\n",
       "      <th></th>\n",
       "      <th>site_id</th>\n",
       "      <th>building_id</th>\n",
       "      <th>primary_use</th>\n",
       "      <th>floor_count</th>\n",
       "      <th>hour</th>\n",
       "      <th>day</th>\n",
       "      <th>weekend</th>\n",
       "      <th>month</th>\n",
       "      <th>meter</th>\n",
       "      <th>square_feet_log</th>\n",
       "      <th>year_built</th>\n",
       "      <th>air_temperature</th>\n",
       "      <th>cloud_coverage</th>\n",
       "    </tr>\n",
       "  </thead>\n",
       "  <tbody>\n",
       "    <tr>\n",
       "      <td>0</td>\n",
       "      <td>0</td>\n",
       "      <td>0</td>\n",
       "      <td>0</td>\n",
       "      <td>3</td>\n",
       "      <td>0</td>\n",
       "      <td>1</td>\n",
       "      <td>4</td>\n",
       "      <td>1</td>\n",
       "      <td>0</td>\n",
       "      <td>0.406656</td>\n",
       "      <td>0.423529</td>\n",
       "      <td>0.712062</td>\n",
       "      <td>0.023529</td>\n",
       "    </tr>\n",
       "    <tr>\n",
       "      <td>1</td>\n",
       "      <td>0</td>\n",
       "      <td>1</td>\n",
       "      <td>0</td>\n",
       "      <td>3</td>\n",
       "      <td>0</td>\n",
       "      <td>1</td>\n",
       "      <td>4</td>\n",
       "      <td>1</td>\n",
       "      <td>0</td>\n",
       "      <td>0.281582</td>\n",
       "      <td>0.407843</td>\n",
       "      <td>0.712062</td>\n",
       "      <td>0.023529</td>\n",
       "    </tr>\n",
       "    <tr>\n",
       "      <td>2</td>\n",
       "      <td>0</td>\n",
       "      <td>2</td>\n",
       "      <td>0</td>\n",
       "      <td>3</td>\n",
       "      <td>0</td>\n",
       "      <td>1</td>\n",
       "      <td>4</td>\n",
       "      <td>1</td>\n",
       "      <td>0</td>\n",
       "      <td>0.366359</td>\n",
       "      <td>0.356863</td>\n",
       "      <td>0.712062</td>\n",
       "      <td>0.023529</td>\n",
       "    </tr>\n",
       "    <tr>\n",
       "      <td>3</td>\n",
       "      <td>0</td>\n",
       "      <td>3</td>\n",
       "      <td>0</td>\n",
       "      <td>3</td>\n",
       "      <td>0</td>\n",
       "      <td>1</td>\n",
       "      <td>4</td>\n",
       "      <td>1</td>\n",
       "      <td>0</td>\n",
       "      <td>0.550878</td>\n",
       "      <td>0.400000</td>\n",
       "      <td>0.712062</td>\n",
       "      <td>0.023529</td>\n",
       "    </tr>\n",
       "    <tr>\n",
       "      <td>4</td>\n",
       "      <td>0</td>\n",
       "      <td>4</td>\n",
       "      <td>0</td>\n",
       "      <td>3</td>\n",
       "      <td>0</td>\n",
       "      <td>1</td>\n",
       "      <td>4</td>\n",
       "      <td>1</td>\n",
       "      <td>0</td>\n",
       "      <td>0.749218</td>\n",
       "      <td>0.294118</td>\n",
       "      <td>0.712062</td>\n",
       "      <td>0.023529</td>\n",
       "    </tr>\n",
       "  </tbody>\n",
       "</table>\n",
       "</div>"
      ],
      "text/plain": [
       "   site_id  building_id  primary_use  floor_count  hour  day  weekend  month  \\\n",
       "0        0            0            0            3     0    1        4      1   \n",
       "1        0            1            0            3     0    1        4      1   \n",
       "2        0            2            0            3     0    1        4      1   \n",
       "3        0            3            0            3     0    1        4      1   \n",
       "4        0            4            0            3     0    1        4      1   \n",
       "\n",
       "   meter  square_feet_log  year_built  air_temperature  cloud_coverage  \n",
       "0      0         0.406656    0.423529         0.712062        0.023529  \n",
       "1      0         0.281582    0.407843         0.712062        0.023529  \n",
       "2      0         0.366359    0.356863         0.712062        0.023529  \n",
       "3      0         0.550878    0.400000         0.712062        0.023529  \n",
       "4      0         0.749218    0.294118         0.712062        0.023529  "
      ]
     },
     "execution_count": 13,
     "metadata": {},
     "output_type": "execute_result"
    }
   ],
   "source": [
    "train_x.head()"
   ]
  },
  {
   "cell_type": "code",
   "execution_count": 4,
   "metadata": {},
   "outputs": [
    {
     "name": "stdout",
     "output_type": "stream",
     "text": [
      "inital load (41697600, 4)\n",
      "after building df load (41697600, 9)\n",
      "after weather load (41697600, 18)\n",
      "Memory usage of properties dataframe is : 6203.485107421875  MB\n",
      "******************************\n",
      "Column:  row_id\n",
      "dtype before:  int64\n",
      "min for this col:  0\n",
      "max for this col:  41697599\n",
      "dtype after:  uint32\n",
      "******************************\n",
      "******************************\n",
      "Column:  building_id\n",
      "dtype before:  int64\n",
      "min for this col:  0\n",
      "max for this col:  1448\n",
      "dtype after:  uint16\n",
      "******************************\n",
      "******************************\n",
      "Column:  meter\n",
      "dtype before:  int64\n",
      "min for this col:  0\n",
      "max for this col:  3\n",
      "dtype after:  uint8\n",
      "******************************\n",
      "******************************\n",
      "Column:  site_id\n",
      "dtype before:  int64\n",
      "min for this col:  0\n",
      "max for this col:  15\n",
      "dtype after:  uint8\n",
      "******************************\n",
      "******************************\n",
      "Column:  primary_use\n",
      "dtype before:  int64\n",
      "min for this col:  0\n",
      "max for this col:  15\n",
      "dtype after:  uint8\n",
      "******************************\n",
      "******************************\n",
      "Column:  square_feet\n",
      "dtype before:  int64\n",
      "min for this col:  283\n",
      "max for this col:  875000\n",
      "dtype after:  uint32\n",
      "******************************\n",
      "******************************\n",
      "Column:  year_built\n",
      "dtype before:  float64\n",
      "min for this col:  0.0\n",
      "max for this col:  117.0\n",
      "dtype after:  uint8\n",
      "******************************\n",
      "******************************\n",
      "Column:  floor_count\n",
      "dtype before:  int64\n",
      "min for this col:  0\n",
      "max for this col:  4\n",
      "dtype after:  uint8\n",
      "******************************\n",
      "******************************\n",
      "Column:  air_temperature\n",
      "dtype before:  float64\n",
      "min for this col:  -28.1\n",
      "max for this col:  48.3\n",
      "dtype after:  float32\n",
      "******************************\n",
      "******************************\n",
      "Column:  cloud_coverage\n",
      "dtype before:  float64\n",
      "min for this col:  0.0\n",
      "max for this col:  9.0\n",
      "dtype after:  uint8\n",
      "******************************\n",
      "******************************\n",
      "Column:  dew_temperature\n",
      "dtype before:  float64\n",
      "min for this col:  -31.6\n",
      "max for this col:  26.7\n",
      "dtype after:  float32\n",
      "******************************\n",
      "******************************\n",
      "Column:  precip_depth_1_hr\n",
      "dtype before:  float64\n",
      "min for this col:  -1.0\n",
      "max for this col:  597.0\n",
      "dtype after:  int16\n",
      "******************************\n",
      "******************************\n",
      "Column:  sea_level_pressure\n",
      "dtype before:  float64\n",
      "min for this col:  972.0\n",
      "max for this col:  1050.1\n",
      "dtype after:  float32\n",
      "******************************\n",
      "******************************\n",
      "Column:  wind_direction\n",
      "dtype before:  float64\n",
      "min for this col:  0.0\n",
      "max for this col:  360.0\n",
      "dtype after:  uint16\n",
      "******************************\n",
      "******************************\n",
      "Column:  wind_speed\n",
      "dtype before:  float64\n",
      "min for this col:  0.0\n",
      "max for this col:  24.2\n",
      "dtype after:  float32\n",
      "******************************\n",
      "******************************\n",
      "Column:  wind_speed_log\n",
      "dtype before:  float64\n",
      "min for this col:  0.0\n",
      "max for this col:  3.2268439945173775\n",
      "dtype after:  float32\n",
      "******************************\n",
      "******************************\n",
      "Column:  dew_temp_log\n",
      "dtype before:  float64\n",
      "min for this col:  0.0\n",
      "max for this col:  4.08260930600368\n",
      "dtype after:  float32\n",
      "******************************\n",
      "******************************\n",
      "Column:  hour\n",
      "dtype before:  uint8\n",
      "min for this col:  0\n",
      "max for this col:  23\n",
      "dtype after:  uint8\n",
      "******************************\n",
      "******************************\n",
      "Column:  day\n",
      "dtype before:  uint8\n",
      "min for this col:  1\n",
      "max for this col:  31\n",
      "dtype after:  uint8\n",
      "******************************\n",
      "******************************\n",
      "Column:  weekend\n",
      "dtype before:  uint8\n",
      "min for this col:  0\n",
      "max for this col:  6\n",
      "dtype after:  uint8\n",
      "******************************\n",
      "******************************\n",
      "Column:  month\n",
      "dtype before:  uint8\n",
      "min for this col:  1\n",
      "max for this col:  12\n",
      "dtype after:  uint8\n",
      "******************************\n",
      "******************************\n",
      "Column:  square_feet_log\n",
      "dtype before:  float64\n",
      "min for this col:  5.645446897643238\n",
      "max for this col:  13.681979165339751\n",
      "dtype after:  float32\n",
      "******************************\n",
      "___MEMORY USAGE AFTER COMPLETION:___\n",
      "Memory usage is:  2385.955810546875  MB\n",
      "This is  38.46153846153846 % of the initial size\n",
      "Features in dataset\n",
      "<class 'pandas.core.frame.DataFrame'>\n",
      "Int64Index: 41697600 entries, 0 to 41697599\n",
      "Data columns (total 13 columns):\n",
      "site_id            uint8\n",
      "building_id        uint16\n",
      "primary_use        uint8\n",
      "floor_count        uint8\n",
      "hour               uint8\n",
      "day                uint8\n",
      "weekend            uint8\n",
      "month              uint8\n",
      "meter              uint8\n",
      "square_feet_log    float64\n",
      "year_built         float64\n",
      "air_temperature    float64\n",
      "cloud_coverage     float64\n",
      "dtypes: float64(4), uint16(1), uint8(8)\n",
      "memory usage: 1.9 GB\n",
      "None\n"
     ]
    }
   ],
   "source": [
    "test_x = prep_test_data(categorical, numerical, train_dict)"
   ]
  },
  {
   "cell_type": "code",
   "execution_count": 14,
   "metadata": {},
   "outputs": [
    {
     "data": {
      "text/plain": [
       "LGBMRegressor(boosting_type='gbdt', class_weight=None, colsample_bytree=1.0,\n",
       "              feature_fraction=0.7, importance_type='split', learning_rate=0.1,\n",
       "              max_depth=-1, min_child_samples=20, min_child_weight=0.001,\n",
       "              min_split_gain=0.0, n_estimators=700, n_jobs=-1, num_leaves=990,\n",
       "              objective=None, random_state=None, reg_alpha=0.1, reg_lambda=0.1,\n",
       "              silent=True, subsample=0.2, subsample_for_bin=200000,\n",
       "              subsample_freq=0)"
      ]
     },
     "execution_count": 14,
     "metadata": {},
     "output_type": "execute_result"
    }
   ],
   "source": [
    "LGBMRegressor(feature_fraction=0.7,\n",
    "                                num_leaves=990, \n",
    "                                learning_rate=0.1, \n",
    "                                n_estimators=700, \n",
    "                                subsample_for_bin=200000,  \n",
    "                                subsample=0.2, \n",
    "                                reg_alpha=0.1, \n",
    "                                reg_lambda=0.1, \n",
    "                                )"
   ]
  },
  {
   "cell_type": "code",
   "execution_count": 15,
   "metadata": {},
   "outputs": [
    {
     "data": {
      "text/plain": [
       "XGBRegressor(base_score=0.5, booster='gbtree', colsample_bylevel=1,\n",
       "             colsample_bynode=1, colsample_bytree=1, gamma=0.1,\n",
       "             importance_type='gain', learning_rate=0.1, max_delta_step=0,\n",
       "             max_depth=7, min_child_weight=1, missing=None, n_estimators=1200,\n",
       "             n_jobs=1, nthread=None, num_parallel_tree=-1,\n",
       "             objective='reg:linear', random_state=0, reg_alpha=0.1,\n",
       "             reg_lambda=0.1, scale_pos_weight=1, seed=None, silent=None,\n",
       "             subsample=0.7, verbosity=1)"
      ]
     },
     "execution_count": 15,
     "metadata": {},
     "output_type": "execute_result"
    }
   ],
   "source": [
    "XGBRegressor(max_depth=7,\n",
    "                                   learning_rate=0.1,\n",
    "                                   n_estimators=1200,\n",
    "                                   gamma=0.1, \n",
    "                                   subsample=0.7, \n",
    "                                   reg_alpha=0.1, \n",
    "                                   reg_lambda=0.1, \n",
    "                                   num_parallel_tree=-1\n",
    "                                  )"
   ]
  },
  {
   "cell_type": "code",
   "execution_count": 13,
   "metadata": {},
   "outputs": [],
   "source": [
    "#Import preprocessed data\n",
    "train_df = pd.read_csv('./notebooks/data/train_fe.csv')"
   ]
  },
  {
   "cell_type": "markdown",
   "metadata": {},
   "source": [
    "# SUPER LEARNER FUNCTIONS"
   ]
  },
  {
   "cell_type": "code",
   "execution_count": 10,
   "metadata": {},
   "outputs": [],
   "source": [
    "def get_models():\n",
    "    models = list()\n",
    "    models.append(LinearRegression())\n",
    "    models.append(ElasticNet())\n",
    "    models.append(RandomForestRegressor(n_estimators=1000))\n",
    "    models.append(KNeighborsRegressor(n_neighbors=3))\n",
    "    models.append(LGBMRegressor(feature_fraction=0.7,\n",
    "                                num_leaves=990, \n",
    "                                learning_rate=0.1, \n",
    "                                n_estimators=700, \n",
    "                                subsample_for_bin=200000,  \n",
    "                                subsample=0.2, \n",
    "                                reg_alpha=0.1, \n",
    "                                reg_lambda=0.1, \n",
    "                                ))\n",
    "    return models"
   ]
  },
  {
   "cell_type": "code",
   "execution_count": 11,
   "metadata": {},
   "outputs": [],
   "source": [
    "def rmsle(yreal, yhat):\n",
    "    return np.sqrt(np.mean(np.square(np.log1p(yreal) - np.log1p(yhat))))"
   ]
  },
  {
   "cell_type": "code",
   "execution_count": 12,
   "metadata": {},
   "outputs": [],
   "source": [
    "def get_super_learner(X):\n",
    "    ensemble = SuperLearner(scorer=rmsle, \n",
    "                            folds=3, \n",
    "                            shuffle=True,\n",
    "                            sample_size=len(X),\n",
    "                            verbose=2\n",
    "                           )\n",
    "    models_set_1 = get_models()\n",
    "    models_set_2 = get_models()\n",
    "    models_set_3 = get_models()\n",
    "    ensemble.add(models_set_1)\n",
    "    ensemble.add(models_set_2)\n",
    "    ensemble.add(models_set_3)\n",
    "    ensemble.add_meta(LGBMRegressor(feature_fraction=0.7,\n",
    "                                num_leaves=990, \n",
    "                                learning_rate=0.1, \n",
    "                                n_estimators=1800, \n",
    "                                subsample_for_bin=200000,  \n",
    "                                subsample=0.2, \n",
    "                                reg_alpha=0.2, \n",
    "                                reg_lambda=0.2, \n",
    "                                ))\n",
    "    return ensemble"
   ]
  },
  {
   "cell_type": "code",
   "execution_count": 21,
   "metadata": {},
   "outputs": [],
   "source": [
    "xgb_test = XGBRegressor(max_depth=7,\n",
    "               learning_rate=0.1,\n",
    "               n_estimators=1200,\n",
    "               gamma=0.1, \n",
    "               subsample=0.7, \n",
    "               reg_alpha=0.1, \n",
    "               reg_lambda=0.1, \n",
    "               num_parallel_tree=500)"
   ]
  },
  {
   "cell_type": "code",
   "execution_count": null,
   "metadata": {},
   "outputs": [
    {
     "name": "stderr",
     "output_type": "stream",
     "text": [
      "/Users/ns/anaconda3/envs/ashrae-energy-prediction/lib/python3.6/site-packages/xgboost/core.py:587: FutureWarning: Series.base is deprecated and will be removed in a future version\n",
      "  if getattr(data, 'base', None) is not None and \\\n",
      "/Users/ns/anaconda3/envs/ashrae-energy-prediction/lib/python3.6/site-packages/xgboost/core.py:588: FutureWarning: Series.base is deprecated and will be removed in a future version\n",
      "  data.base is not None and isinstance(data, np.ndarray) \\\n"
     ]
    },
    {
     "name": "stdout",
     "output_type": "stream",
     "text": [
      "[19:19:04] WARNING: src/objective/regression_obj.cu:152: reg:linear is now deprecated in favor of reg:squarederror.\n",
      "[19:19:04] WARNING: src/learner.cc:686: Tree method is automatically selected to be 'approx' for faster speed. To use old behavior (exact greedy algorithm on single machine), set tree_method to 'exact'.\n"
     ]
    }
   ],
   "source": [
    "xgb_test.fit(train_df, target)"
   ]
  },
  {
   "cell_type": "markdown",
   "metadata": {},
   "source": [
    "# Training Runs"
   ]
  },
  {
   "cell_type": "code",
   "execution_count": 14,
   "metadata": {},
   "outputs": [],
   "source": [
    "target = train_df['meter_reading']\n",
    "del train_df['meter_reading']"
   ]
  },
  {
   "cell_type": "code",
   "execution_count": 15,
   "metadata": {},
   "outputs": [],
   "source": [
    "train_x, val_x, train_y, val_y = train_test_split(train_df, target, test_size=0.6)"
   ]
  },
  {
   "cell_type": "code",
   "execution_count": 8,
   "metadata": {},
   "outputs": [
    {
     "data": {
      "text/plain": [
       "0.0000        1531231\n",
       "20.0000         23363\n",
       "2.9307          23181\n",
       "36.6000         22154\n",
       "8.7921          21787\n",
       "               ...   \n",
       "12186.6000          1\n",
       "12197.9000          1\n",
       "36.9656             1\n",
       "4.7889              1\n",
       "96.4177             1\n",
       "Name: meter_reading, Length: 1682937, dtype: int64"
      ]
     },
     "execution_count": 8,
     "metadata": {},
     "output_type": "execute_result"
    }
   ],
   "source": [
    "target.value_counts()"
   ]
  },
  {
   "cell_type": "code",
   "execution_count": null,
   "metadata": {},
   "outputs": [
    {
     "name": "stdout",
     "output_type": "stream",
     "text": [
      "\n",
      "Fitting 4 layers\n",
      "Processing layer-1             "
     ]
    },
    {
     "name": "stderr",
     "output_type": "stream",
     "text": [
      "/Users/ns/anaconda3/envs/ashrae-energy-prediction/lib/python3.6/site-packages/ipykernel_launcher.py:2: RuntimeWarning: invalid value encountered in log1p\n",
      "  \n",
      "/Users/ns/anaconda3/envs/ashrae-energy-prediction/lib/python3.6/site-packages/ipykernel_launcher.py:2: RuntimeWarning: invalid value encountered in log1p\n",
      "  \n",
      "/Users/ns/anaconda3/envs/ashrae-energy-prediction/lib/python3.6/site-packages/ipykernel_launcher.py:2: RuntimeWarning: invalid value encountered in log1p\n",
      "  \n",
      "/Users/ns/anaconda3/envs/ashrae-energy-prediction/lib/python3.6/site-packages/ipykernel_launcher.py:2: RuntimeWarning: invalid value encountered in log1p\n",
      "  \n",
      "/Users/ns/anaconda3/envs/ashrae-energy-prediction/lib/python3.6/site-packages/ipykernel_launcher.py:2: RuntimeWarning: invalid value encountered in log1p\n",
      "  \n",
      "/Users/ns/anaconda3/envs/ashrae-energy-prediction/lib/python3.6/site-packages/ipykernel_launcher.py:2: RuntimeWarning: invalid value encountered in log1p\n",
      "  \n",
      "/Users/ns/anaconda3/envs/ashrae-energy-prediction/lib/python3.6/site-packages/ipykernel_launcher.py:2: RuntimeWarning: invalid value encountered in log1p\n",
      "  \n"
     ]
    }
   ],
   "source": [
    "ensemble = get_super_learner(train_x.values)\n",
    "ensemble.fit(train_x.values, train_y.values)\n",
    "print(ensemble.data)"
   ]
  },
  {
   "cell_type": "code",
   "execution_count": null,
   "metadata": {},
   "outputs": [],
   "source": []
  },
  {
   "cell_type": "code",
   "execution_count": 20,
   "metadata": {},
   "outputs": [
    {
     "name": "stdout",
     "output_type": "stream",
     "text": [
      "\n",
      "Predicting 2 layers\n",
      "Processing layer-1             done | 00:23:26\n",
      "Processing layer-2             done | 00:00:00\n",
      "Predict complete                    | 00:23:27\n",
      "Super Learner: RMSE 0.17556\n"
     ]
    }
   ],
   "source": [
    "yhat= ensemble.predict(val_x)\n",
    "print('Super Learner: RMSLE %.5f' % (rmsle(val_y, yhat)))"
   ]
  },
  {
   "cell_type": "code",
   "execution_count": 25,
   "metadata": {},
   "outputs": [],
   "source": [
    "pickle_save(ensemble, 'sl_model_v1.pkl')"
   ]
  },
  {
   "cell_type": "code",
   "execution_count": 10,
   "metadata": {},
   "outputs": [],
   "source": [
    "ensemble_v1=pickle_load('sl_model_v1.pkl')"
   ]
  },
  {
   "cell_type": "code",
   "execution_count": null,
   "metadata": {},
   "outputs": [],
   "source": []
  },
  {
   "cell_type": "code",
   "execution_count": null,
   "metadata": {},
   "outputs": [],
   "source": []
  },
  {
   "cell_type": "code",
   "execution_count": 11,
   "metadata": {},
   "outputs": [
    {
     "name": "stdout",
     "output_type": "stream",
     "text": [
      "\n",
      "Predicting 2 layers\n"
     ]
    },
    {
     "name": "stderr",
     "output_type": "stream",
     "text": [
      "/Users/ns/anaconda3/envs/ashrae-energy-prediction/lib/python3.6/site-packages/mlens/parallel/_base_functions.py:313: ParameterChangeWarning: Parameter value (10) has changed since model was fitted ('warn').\n",
      "  (lpar, rpar), ParameterChangeWarning)\n"
     ]
    },
    {
     "name": "stdout",
     "output_type": "stream",
     "text": [
      "Processing layer-1             done | 00:52:34\n",
      "Processing layer-2             done | 00:00:00\n",
      "Predict complete                    | 00:52:36\n"
     ]
    }
   ],
   "source": [
    "predictions = ensemble_v1.predict(test_x)"
   ]
  },
  {
   "cell_type": "code",
   "execution_count": 13,
   "metadata": {},
   "outputs": [
    {
     "data": {
      "text/plain": [
       "(41697600,)"
      ]
     },
     "execution_count": 13,
     "metadata": {},
     "output_type": "execute_result"
    }
   ],
   "source": [
    "predictions.shape"
   ]
  },
  {
   "cell_type": "code",
   "execution_count": 16,
   "metadata": {},
   "outputs": [],
   "source": [
    "def make_submission(predicitons):\n",
    "    submission = pd.read_csv('/Users/ns/code/nicholasjhana/ashrae-energy-prediction/data/sample_submission.csv')\n",
    "\n",
    "    submission['meter_reading'] = predictions\n",
    "    submission.loc[submission['meter_reading']<0, 'meter_reading'] = 0\n",
    "    submission.to_csv('submission_sl_v2.csv', index=False)\n",
    "    return submission"
   ]
  },
  {
   "cell_type": "code",
   "execution_count": 17,
   "metadata": {},
   "outputs": [],
   "source": [
    "submission = make_submission(predictions)"
   ]
  },
  {
   "cell_type": "code",
   "execution_count": null,
   "metadata": {},
   "outputs": [],
   "source": []
  },
  {
   "cell_type": "code",
   "execution_count": 60,
   "metadata": {},
   "outputs": [],
   "source": [
    "def gen_fib():\n",
    "    initial_fibs = [1, 1]\n",
    "    fibs = []\n",
    "    for x in range(1,20):\n",
    "        if x==1:\n",
    "            fibs.append(initial_fibs[x])\n",
    "            fibs.append(initial_fibs[x])\n",
    "            new_fib = initial_fibs[x] * 2\n",
    "        else:\n",
    "            new_fib = fibs[x] + fibs[x-1]\n",
    "        fibs.append(new_fib)\n",
    "        yield fibs\n",
    "\n"
   ]
  },
  {
   "cell_type": "code",
   "execution_count": 56,
   "metadata": {},
   "outputs": [
    {
     "data": {
      "text/plain": [
       "[1,\n",
       " 1,\n",
       " 2,\n",
       " 3,\n",
       " 5,\n",
       " 8,\n",
       " 13,\n",
       " 21,\n",
       " 34,\n",
       " 55,\n",
       " 89,\n",
       " 144,\n",
       " 233,\n",
       " 377,\n",
       " 610,\n",
       " 987,\n",
       " 1597,\n",
       " 2584,\n",
       " 4181,\n",
       " 6765,\n",
       " 10946]"
      ]
     },
     "execution_count": 56,
     "metadata": {},
     "output_type": "execute_result"
    }
   ],
   "source": [
    "gen_fib()"
   ]
  },
  {
   "cell_type": "code",
   "execution_count": 63,
   "metadata": {},
   "outputs": [
    {
     "data": {
      "text/plain": [
       "[1, 1, 2]"
      ]
     },
     "execution_count": 63,
     "metadata": {},
     "output_type": "execute_result"
    }
   ],
   "source": [
    "next(gen_fib())"
   ]
  },
  {
   "cell_type": "code",
   "execution_count": null,
   "metadata": {},
   "outputs": [],
   "source": []
  },
  {
   "cell_type": "code",
   "execution_count": null,
   "metadata": {},
   "outputs": [],
   "source": []
  }
 ],
 "metadata": {
  "kernelspec": {
   "display_name": "Python 3",
   "language": "python",
   "name": "python3"
  },
  "language_info": {
   "codemirror_mode": {
    "name": "ipython",
    "version": 3
   },
   "file_extension": ".py",
   "mimetype": "text/x-python",
   "name": "python",
   "nbconvert_exporter": "python",
   "pygments_lexer": "ipython3",
   "version": "3.6.9"
  }
 },
 "nbformat": 4,
 "nbformat_minor": 2
}
